{
 "cells": [
  {
   "cell_type": "markdown",
   "id": "0c15aaee-5eb0-4f30-8f28-93d748126496",
   "metadata": {},
   "source": [
    "Play store apps dataset"
   ]
  },
  {
   "cell_type": "raw",
   "id": "a702268b-a3e6-4074-888b-c2985a9ea85f",
   "metadata": {},
   "source": [
    "Why this dataset is interesting?\n",
    "The Google Play Store is Google's app marketplace. Most people access the Google Play\n",
    "Store when they want to install new apps onto Android their phones.\n",
    "Like any market apps in the play store are subject to supply and demand... that is to say\n",
    "that certain kinds of apps get downloaded a lot while others don't. Certain kinds of apps get\n",
    "paid for while others don't. Some categories of apps have lots and lots of competition while\n",
    "others don't.\n",
    "A dataset like this can help you spot opportunities."
   ]
  },
  {
   "cell_type": "code",
   "execution_count": 1,
   "id": "c2b4f578-9ec9-4cf0-a276-b3e5e1f1eed3",
   "metadata": {},
   "outputs": [
    {
     "name": "stdout",
     "output_type": "stream",
     "text": [
      "We can crawl Google Play? True\n"
     ]
    }
   ],
   "source": [
    "import urllib.robotparser\n",
    "rp = urllib.robotparser.RobotFileParser()\n",
    "rp.set_url(\"https://www.etsy.com/robots.txt\")\n",
    "rp.read()\n",
    "rp.crawl_delay(\"*\")\n",
    "test_crawl_url=\"https://play.google.com/store/apps/details?id=com.wildnotion.poetscorner\"\n",
    "can_crawl_listings = rp.can_fetch(\"*\", test_crawl_url)\n",
    "print(\"We can crawl Google Play? {0}\".format(can_crawl_listings))"
   ]
  },
  {
   "cell_type": "code",
   "execution_count": 2,
   "id": "2cb52515-1752-401f-b20f-9f896252a6de",
   "metadata": {},
   "outputs": [],
   "source": [
    "import pandas as pd\n",
    "import numpy as np\n",
    "import matplotlib.pyplot as plt\n",
    "import seaborn as sns\n",
    "from datetime import date\n",
    "\n",
    "%matplotlib inline\n",
    "\n",
    "plt.rcParams['figure.figsize'] = [12, 12]\n",
    "sns.set_theme(style = \"darkgrid\",palette=\"pastel\")"
   ]
  },
  {
   "cell_type": "code",
   "execution_count": 3,
   "id": "9e28dc3e-3d15-4947-8aa5-ab9737e74f35",
   "metadata": {},
   "outputs": [
    {
     "data": {
      "text/html": [
       "<div>\n",
       "<style scoped>\n",
       "    .dataframe tbody tr th:only-of-type {\n",
       "        vertical-align: middle;\n",
       "    }\n",
       "\n",
       "    .dataframe tbody tr th {\n",
       "        vertical-align: top;\n",
       "    }\n",
       "\n",
       "    .dataframe thead th {\n",
       "        text-align: right;\n",
       "    }\n",
       "</style>\n",
       "<table border=\"1\" class=\"dataframe\">\n",
       "  <thead>\n",
       "    <tr style=\"text-align: right;\">\n",
       "      <th></th>\n",
       "      <th>app_id</th>\n",
       "      <th>title</th>\n",
       "      <th>reviews</th>\n",
       "      <th>ratings</th>\n",
       "      <th>min_installs</th>\n",
       "      <th>score</th>\n",
       "      <th>offers_iap</th>\n",
       "      <th>ad_supported</th>\n",
       "      <th>released</th>\n",
       "      <th>ratings_per_day</th>\n",
       "      <th>genre</th>\n",
       "      <th>genre_id</th>\n",
       "      <th>price</th>\n",
       "      <th>rating_one_star</th>\n",
       "      <th>rating_two_star</th>\n",
       "      <th>rating_three_star</th>\n",
       "      <th>rating_four_star</th>\n",
       "      <th>rating_five_star</th>\n",
       "    </tr>\n",
       "  </thead>\n",
       "  <tbody>\n",
       "    <tr>\n",
       "      <th>0</th>\n",
       "      <td>com.prettyteengames.royal.princess.wedding.mak...</td>\n",
       "      <td>Royal Princess Wedding Makeover and Dress Up</td>\n",
       "      <td>375.0</td>\n",
       "      <td>1023.0</td>\n",
       "      <td>100000</td>\n",
       "      <td>4.179863</td>\n",
       "      <td>True</td>\n",
       "      <td>True</td>\n",
       "      <td>2017-12-20</td>\n",
       "      <td>3</td>\n",
       "      <td>Casual</td>\n",
       "      <td>GAME_CASUAL</td>\n",
       "      <td>0.0</td>\n",
       "      <td>115</td>\n",
       "      <td>31</td>\n",
       "      <td>98</td>\n",
       "      <td>90</td>\n",
       "      <td>689</td>\n",
       "    </tr>\n",
       "    <tr>\n",
       "      <th>1</th>\n",
       "      <td>com.MayGreenStudio.dressup</td>\n",
       "      <td>Momo's Dressup</td>\n",
       "      <td>13492.0</td>\n",
       "      <td>25974.0</td>\n",
       "      <td>1000000</td>\n",
       "      <td>4.711096</td>\n",
       "      <td>False</td>\n",
       "      <td>True</td>\n",
       "      <td>2017-03-07</td>\n",
       "      <td>42</td>\n",
       "      <td>Casual</td>\n",
       "      <td>GAME_CASUAL</td>\n",
       "      <td>0.0</td>\n",
       "      <td>673</td>\n",
       "      <td>213</td>\n",
       "      <td>806</td>\n",
       "      <td>2561</td>\n",
       "      <td>21721</td>\n",
       "    </tr>\n",
       "    <tr>\n",
       "      <th>2</th>\n",
       "      <td>air.theflash.f2game.PrettyGirl23</td>\n",
       "      <td>Princess Pretty Girl</td>\n",
       "      <td>1974.0</td>\n",
       "      <td>4610.0</td>\n",
       "      <td>500000</td>\n",
       "      <td>4.295445</td>\n",
       "      <td>False</td>\n",
       "      <td>True</td>\n",
       "      <td>2015-01-18</td>\n",
       "      <td>3</td>\n",
       "      <td>Casual</td>\n",
       "      <td>GAME_CASUAL</td>\n",
       "      <td>0.0</td>\n",
       "      <td>382</td>\n",
       "      <td>206</td>\n",
       "      <td>287</td>\n",
       "      <td>528</td>\n",
       "      <td>3207</td>\n",
       "    </tr>\n",
       "    <tr>\n",
       "      <th>3</th>\n",
       "      <td>air.com.dressupone.animeschooluniforms</td>\n",
       "      <td>Anime School Uniforms</td>\n",
       "      <td>2586.0</td>\n",
       "      <td>6081.0</td>\n",
       "      <td>500000</td>\n",
       "      <td>4.209505</td>\n",
       "      <td>False</td>\n",
       "      <td>True</td>\n",
       "      <td>2013-08-20</td>\n",
       "      <td>3</td>\n",
       "      <td>Casual</td>\n",
       "      <td>GAME_CASUAL</td>\n",
       "      <td>0.0</td>\n",
       "      <td>628</td>\n",
       "      <td>193</td>\n",
       "      <td>524</td>\n",
       "      <td>668</td>\n",
       "      <td>4068</td>\n",
       "    </tr>\n",
       "    <tr>\n",
       "      <th>4</th>\n",
       "      <td>air.theflash.f2game.PrettyGirl7</td>\n",
       "      <td>Wedding Pretty girl</td>\n",
       "      <td>1409.0</td>\n",
       "      <td>3728.0</td>\n",
       "      <td>500000</td>\n",
       "      <td>4.195011</td>\n",
       "      <td>False</td>\n",
       "      <td>True</td>\n",
       "      <td>2014-09-01</td>\n",
       "      <td>2</td>\n",
       "      <td>Casual</td>\n",
       "      <td>GAME_CASUAL</td>\n",
       "      <td>0.0</td>\n",
       "      <td>358</td>\n",
       "      <td>185</td>\n",
       "      <td>300</td>\n",
       "      <td>414</td>\n",
       "      <td>2471</td>\n",
       "    </tr>\n",
       "  </tbody>\n",
       "</table>\n",
       "</div>"
      ],
      "text/plain": [
       "                                              app_id  \\\n",
       "0  com.prettyteengames.royal.princess.wedding.mak...   \n",
       "1                         com.MayGreenStudio.dressup   \n",
       "2                   air.theflash.f2game.PrettyGirl23   \n",
       "3             air.com.dressupone.animeschooluniforms   \n",
       "4                    air.theflash.f2game.PrettyGirl7   \n",
       "\n",
       "                                          title  reviews  ratings  \\\n",
       "0  Royal Princess Wedding Makeover and Dress Up    375.0   1023.0   \n",
       "1                                Momo's Dressup  13492.0  25974.0   \n",
       "2                          Princess Pretty Girl   1974.0   4610.0   \n",
       "3                         Anime School Uniforms   2586.0   6081.0   \n",
       "4                           Wedding Pretty girl   1409.0   3728.0   \n",
       "\n",
       "   min_installs     score  offers_iap  ad_supported    released  \\\n",
       "0        100000  4.179863        True          True  2017-12-20   \n",
       "1       1000000  4.711096       False          True  2017-03-07   \n",
       "2        500000  4.295445       False          True  2015-01-18   \n",
       "3        500000  4.209505       False          True  2013-08-20   \n",
       "4        500000  4.195011       False          True  2014-09-01   \n",
       "\n",
       "   ratings_per_day   genre     genre_id  price  rating_one_star  \\\n",
       "0                3  Casual  GAME_CASUAL    0.0              115   \n",
       "1               42  Casual  GAME_CASUAL    0.0              673   \n",
       "2                3  Casual  GAME_CASUAL    0.0              382   \n",
       "3                3  Casual  GAME_CASUAL    0.0              628   \n",
       "4                2  Casual  GAME_CASUAL    0.0              358   \n",
       "\n",
       "   rating_two_star  rating_three_star  rating_four_star  rating_five_star  \n",
       "0               31                 98                90               689  \n",
       "1              213                806              2561             21721  \n",
       "2              206                287               528              3207  \n",
       "3              193                524               668              4068  \n",
       "4              185                300               414              2471  "
      ]
     },
     "execution_count": 3,
     "metadata": {},
     "output_type": "execute_result"
    }
   ],
   "source": [
    "df = pd.read_csv(\"google-play-store-11-2018.csv\")\n",
    "df.head(5)"
   ]
  },
  {
   "cell_type": "code",
   "execution_count": 4,
   "id": "8219c278-4416-40c0-9a34-a2b3c5a2f874",
   "metadata": {},
   "outputs": [
    {
     "data": {
      "text/plain": [
       "(62694, 18)"
      ]
     },
     "execution_count": 4,
     "metadata": {},
     "output_type": "execute_result"
    }
   ],
   "source": [
    "df.shape"
   ]
  },
  {
   "cell_type": "code",
   "execution_count": 5,
   "id": "bc095ab8-a074-4e1c-bb2f-6327f4c3fa2c",
   "metadata": {},
   "outputs": [
    {
     "data": {
      "text/plain": [
       "Index(['app_id', 'title', 'reviews', 'ratings', 'min_installs', 'score',\n",
       "       'offers_iap', 'ad_supported', 'released', 'ratings_per_day', 'genre',\n",
       "       'genre_id', 'price', 'rating_one_star', 'rating_two_star',\n",
       "       'rating_three_star', 'rating_four_star', 'rating_five_star'],\n",
       "      dtype='object')"
      ]
     },
     "execution_count": 5,
     "metadata": {},
     "output_type": "execute_result"
    }
   ],
   "source": [
    "df.columns"
   ]
  },
  {
   "cell_type": "code",
   "execution_count": 6,
   "id": "d28f6760-72cd-48a9-87bc-670807bf02a1",
   "metadata": {},
   "outputs": [
    {
     "data": {
      "text/html": [
       "<div>\n",
       "<style scoped>\n",
       "    .dataframe tbody tr th:only-of-type {\n",
       "        vertical-align: middle;\n",
       "    }\n",
       "\n",
       "    .dataframe tbody tr th {\n",
       "        vertical-align: top;\n",
       "    }\n",
       "\n",
       "    .dataframe thead th {\n",
       "        text-align: right;\n",
       "    }\n",
       "</style>\n",
       "<table border=\"1\" class=\"dataframe\">\n",
       "  <thead>\n",
       "    <tr style=\"text-align: right;\">\n",
       "      <th></th>\n",
       "      <th>reviews</th>\n",
       "      <th>ratings</th>\n",
       "      <th>min_installs</th>\n",
       "      <th>score</th>\n",
       "      <th>ratings_per_day</th>\n",
       "      <th>price</th>\n",
       "      <th>rating_one_star</th>\n",
       "      <th>rating_two_star</th>\n",
       "      <th>rating_three_star</th>\n",
       "      <th>rating_four_star</th>\n",
       "      <th>rating_five_star</th>\n",
       "    </tr>\n",
       "  </thead>\n",
       "  <tbody>\n",
       "    <tr>\n",
       "      <th>count</th>\n",
       "      <td>6.268300e+04</td>\n",
       "      <td>6.268300e+04</td>\n",
       "      <td>6.269400e+04</td>\n",
       "      <td>62683.000000</td>\n",
       "      <td>62694.000000</td>\n",
       "      <td>62694.000000</td>\n",
       "      <td>6.269400e+04</td>\n",
       "      <td>6.269400e+04</td>\n",
       "      <td>6.269400e+04</td>\n",
       "      <td>6.269400e+04</td>\n",
       "      <td>6.269400e+04</td>\n",
       "    </tr>\n",
       "    <tr>\n",
       "      <th>mean</th>\n",
       "      <td>1.529843e+04</td>\n",
       "      <td>4.936328e+04</td>\n",
       "      <td>2.035663e+06</td>\n",
       "      <td>4.221624</td>\n",
       "      <td>38.620506</td>\n",
       "      <td>0.414998</td>\n",
       "      <td>3.078124e+03</td>\n",
       "      <td>1.211618e+03</td>\n",
       "      <td>3.094328e+03</td>\n",
       "      <td>7.227599e+03</td>\n",
       "      <td>3.474295e+04</td>\n",
       "    </tr>\n",
       "    <tr>\n",
       "      <th>std</th>\n",
       "      <td>2.261505e+05</td>\n",
       "      <td>7.690255e+05</td>\n",
       "      <td>2.386872e+07</td>\n",
       "      <td>0.815517</td>\n",
       "      <td>430.422770</td>\n",
       "      <td>3.793236</td>\n",
       "      <td>6.050231e+04</td>\n",
       "      <td>2.193403e+04</td>\n",
       "      <td>5.230251e+04</td>\n",
       "      <td>1.117066e+05</td>\n",
       "      <td>5.368042e+05</td>\n",
       "    </tr>\n",
       "    <tr>\n",
       "      <th>min</th>\n",
       "      <td>0.000000e+00</td>\n",
       "      <td>0.000000e+00</td>\n",
       "      <td>0.000000e+00</td>\n",
       "      <td>0.000000</td>\n",
       "      <td>0.000000</td>\n",
       "      <td>0.000000</td>\n",
       "      <td>0.000000e+00</td>\n",
       "      <td>0.000000e+00</td>\n",
       "      <td>0.000000e+00</td>\n",
       "      <td>0.000000e+00</td>\n",
       "      <td>0.000000e+00</td>\n",
       "    </tr>\n",
       "    <tr>\n",
       "      <th>25%</th>\n",
       "      <td>1.600000e+01</td>\n",
       "      <td>4.100000e+01</td>\n",
       "      <td>1.000000e+03</td>\n",
       "      <td>4.100497</td>\n",
       "      <td>0.000000</td>\n",
       "      <td>0.000000</td>\n",
       "      <td>2.000000e+00</td>\n",
       "      <td>1.000000e+00</td>\n",
       "      <td>2.000000e+00</td>\n",
       "      <td>4.000000e+00</td>\n",
       "      <td>2.800000e+01</td>\n",
       "    </tr>\n",
       "    <tr>\n",
       "      <th>50%</th>\n",
       "      <td>1.440000e+02</td>\n",
       "      <td>3.980000e+02</td>\n",
       "      <td>5.000000e+04</td>\n",
       "      <td>4.403101</td>\n",
       "      <td>0.000000</td>\n",
       "      <td>0.000000</td>\n",
       "      <td>2.400000e+01</td>\n",
       "      <td>9.000000e+00</td>\n",
       "      <td>2.300000e+01</td>\n",
       "      <td>4.700000e+01</td>\n",
       "      <td>2.640000e+02</td>\n",
       "    </tr>\n",
       "    <tr>\n",
       "      <th>75%</th>\n",
       "      <td>1.500000e+03</td>\n",
       "      <td>4.488000e+03</td>\n",
       "      <td>5.000000e+05</td>\n",
       "      <td>4.637007</td>\n",
       "      <td>6.000000</td>\n",
       "      <td>0.000000</td>\n",
       "      <td>3.070000e+02</td>\n",
       "      <td>1.090000e+02</td>\n",
       "      <td>2.840000e+02</td>\n",
       "      <td>6.090000e+02</td>\n",
       "      <td>2.933000e+03</td>\n",
       "    </tr>\n",
       "    <tr>\n",
       "      <th>max</th>\n",
       "      <td>2.205377e+07</td>\n",
       "      <td>8.128486e+07</td>\n",
       "      <td>1.000000e+09</td>\n",
       "      <td>5.000000</td>\n",
       "      <td>40526.000000</td>\n",
       "      <td>369.990000</td>\n",
       "      <td>9.658715e+06</td>\n",
       "      <td>3.368101e+06</td>\n",
       "      <td>7.164984e+06</td>\n",
       "      <td>1.222342e+07</td>\n",
       "      <td>5.295266e+07</td>\n",
       "    </tr>\n",
       "  </tbody>\n",
       "</table>\n",
       "</div>"
      ],
      "text/plain": [
       "            reviews       ratings  min_installs         score  \\\n",
       "count  6.268300e+04  6.268300e+04  6.269400e+04  62683.000000   \n",
       "mean   1.529843e+04  4.936328e+04  2.035663e+06      4.221624   \n",
       "std    2.261505e+05  7.690255e+05  2.386872e+07      0.815517   \n",
       "min    0.000000e+00  0.000000e+00  0.000000e+00      0.000000   \n",
       "25%    1.600000e+01  4.100000e+01  1.000000e+03      4.100497   \n",
       "50%    1.440000e+02  3.980000e+02  5.000000e+04      4.403101   \n",
       "75%    1.500000e+03  4.488000e+03  5.000000e+05      4.637007   \n",
       "max    2.205377e+07  8.128486e+07  1.000000e+09      5.000000   \n",
       "\n",
       "       ratings_per_day         price  rating_one_star  rating_two_star  \\\n",
       "count     62694.000000  62694.000000     6.269400e+04     6.269400e+04   \n",
       "mean         38.620506      0.414998     3.078124e+03     1.211618e+03   \n",
       "std         430.422770      3.793236     6.050231e+04     2.193403e+04   \n",
       "min           0.000000      0.000000     0.000000e+00     0.000000e+00   \n",
       "25%           0.000000      0.000000     2.000000e+00     1.000000e+00   \n",
       "50%           0.000000      0.000000     2.400000e+01     9.000000e+00   \n",
       "75%           6.000000      0.000000     3.070000e+02     1.090000e+02   \n",
       "max       40526.000000    369.990000     9.658715e+06     3.368101e+06   \n",
       "\n",
       "       rating_three_star  rating_four_star  rating_five_star  \n",
       "count       6.269400e+04      6.269400e+04      6.269400e+04  \n",
       "mean        3.094328e+03      7.227599e+03      3.474295e+04  \n",
       "std         5.230251e+04      1.117066e+05      5.368042e+05  \n",
       "min         0.000000e+00      0.000000e+00      0.000000e+00  \n",
       "25%         2.000000e+00      4.000000e+00      2.800000e+01  \n",
       "50%         2.300000e+01      4.700000e+01      2.640000e+02  \n",
       "75%         2.840000e+02      6.090000e+02      2.933000e+03  \n",
       "max         7.164984e+06      1.222342e+07      5.295266e+07  "
      ]
     },
     "execution_count": 6,
     "metadata": {},
     "output_type": "execute_result"
    }
   ],
   "source": [
    "df.describe()"
   ]
  },
  {
   "cell_type": "code",
   "execution_count": 7,
   "id": "1283b83b-38fa-415c-b3c2-165709530d7c",
   "metadata": {},
   "outputs": [
    {
     "data": {
      "text/plain": [
       "array(['Casual', 'Tools', 'Medical', 'Food & Drink', 'Lifestyle', 'Card',\n",
       "       'Entertainment', 'House & Home', 'Productivity', 'Communication',\n",
       "       'Video Players & Editors', 'Shopping', 'Finance', 'Music & Audio',\n",
       "       'Personalization', 'Simulation', 'Education', 'Sports',\n",
       "       'Auto & Vehicles', 'Action', 'Photography', 'News & Magazines',\n",
       "       'Weather', 'Business', 'Travel & Local', 'Educational',\n",
       "       'Books & Reference', 'Health & Fitness', 'Racing',\n",
       "       'Libraries & Demo', 'Role Playing', 'Adventure', 'Arcade',\n",
       "       'Social', 'Maps & Navigation', 'Board', 'Puzzle', 'Strategy',\n",
       "       'Art & Design', 'Trivia', 'Parenting', 'Comics', 'Word', 'Casino',\n",
       "       nan, 'Events', 'Dating', 'Music', 'Beauty'], dtype=object)"
      ]
     },
     "execution_count": 7,
     "metadata": {},
     "output_type": "execute_result"
    }
   ],
   "source": [
    "df['genre'].unique()"
   ]
  },
  {
   "cell_type": "code",
   "execution_count": 8,
   "id": "cea3a80b-3c35-48f7-8750-4e59ed17332f",
   "metadata": {},
   "outputs": [],
   "source": [
    "g = df.groupby(['genre','min_installs'])\n",
    "l = df['genre'].unique()\n",
    "g.first(10)\n",
    "\n",
    "dict = {}\n",
    "\n",
    "for group,data in g:\n",
    "    for i in range(len(l)):\n",
    "        if group[0] == l[i]:\n",
    "            if group[0] not in dict:\n",
    "                dict[group[0]]=group[1]\n",
    "            else:\n",
    "                dict[group[0]]+=group[1]\n",
    "\n",
    "a = sorted(dict.items() ,key = lambda x: x[1])\n"
   ]
  },
  {
   "cell_type": "code",
   "execution_count": 9,
   "id": "493bb1e9-250e-4236-918f-0d1890e4c743",
   "metadata": {},
   "outputs": [
    {
     "data": {
      "image/png": "[encoded data removed]",
      "text/plain": [
       "<Figure size 864x864 with 1 Axes>"
      ]
     },
     "metadata": {},
     "output_type": "display_data"
    }
   ],
   "source": [
    "installs = pd.DataFrame.from_dict(dict,orient='index',columns = ['sum'])\n",
    "installs\n",
    "\n",
    "sns_sum_plot = sns.barplot(x = 'sum', y = installs.index, data = installs)\n",
    "#sns_sum_plot.figure.savefig(\"sum.png\")"
   ]
  },
  {
   "cell_type": "code",
   "execution_count": 10,
   "id": "255e4283-5999-4387-b974-cba1e07584a9",
   "metadata": {},
   "outputs": [
    {
     "data": {
      "text/plain": [
       "Index(['app_id', 'title', 'reviews', 'ratings', 'min_installs', 'score',\n",
       "       'offers_iap', 'ad_supported', 'released', 'ratings_per_day', 'genre',\n",
       "       'genre_id', 'price', 'rating_one_star', 'rating_two_star',\n",
       "       'rating_three_star', 'rating_four_star', 'rating_five_star'],\n",
       "      dtype='object')"
      ]
     },
     "execution_count": 10,
     "metadata": {},
     "output_type": "execute_result"
    }
   ],
   "source": [
    "df.columns"
   ]
  },
  {
   "cell_type": "code",
   "execution_count": 11,
   "id": "035ba96b-42d5-4cda-affd-fadbb64e7317",
   "metadata": {},
   "outputs": [
    {
     "name": "stdout",
     "output_type": "stream",
     "text": [
      "2010-01-28 00:00:00 2018-11-12 00:00:00\n",
      "4294\n"
     ]
    }
   ],
   "source": [
    "df['released'] = pd.to_datetime(df['released'])\n",
    "today = date.today()\n",
    "d1 = today.strftime(\"%Y-%m-%d\")\n",
    "today = np.datetime64(d1[:4]+'-'+d1[5:7]+'-'+d1[8:10])\n",
    "lowest = df['released'].min()\n",
    "latest = df['released'].max()\n",
    "print(lowest,latest)\n",
    "diff = today - lowest\n",
    "print(int(diff.days))"
   ]
  },
  {
   "cell_type": "code",
   "execution_count": 12,
   "id": "82d3503a-a8a5-4b0e-aed2-80971bbd8844",
   "metadata": {},
   "outputs": [
    {
     "name": "stdout",
     "output_type": "stream",
     "text": [
      "                         0\n",
      "Action          2010-06-30\n",
      "Adventure       2011-08-26\n",
      "Arcade          2010-03-19\n",
      "Art & Design    2010-07-19\n",
      "Auto & Vehicles 2010-10-01\n"
     ]
    },
    {
     "data": {
      "text/plain": [
       "0    datetime64[ns]\n",
       "dtype: object"
      ]
     },
     "execution_count": 12,
     "metadata": {},
     "output_type": "execute_result"
    }
   ],
   "source": [
    "g2 = df.groupby(['genre'])\n",
    "\n",
    "dict1 = g2.agg({'released': np.min})\n",
    "\n",
    "d = dict1.to_dict()\n",
    "\n",
    "min_date = {}\n",
    "days_since = {}\n",
    "\n",
    "for values in d.values():\n",
    "    for k,v in values.items():\n",
    "        min_date[k] = v\n",
    "\n",
    "dates = pd.DataFrame.from_dict(min_date,orient='index')\n",
    "\n",
    "print(dates.head(5))\n",
    "dates.dtypes"
   ]
  },
  {
   "cell_type": "code",
   "execution_count": 13,
   "id": "93f42c3a-0cc3-4f67-824b-63b3c9262172",
   "metadata": {},
   "outputs": [],
   "source": [
    "dates = (today - dates[0]).dt.days"
   ]
  },
  {
   "cell_type": "code",
   "execution_count": 14,
   "id": "0e27fa2e-c74b-4a43-bce5-a46893889efb",
   "metadata": {},
   "outputs": [
    {
     "data": {
      "text/plain": [
       "dtype('int64')"
      ]
     },
     "execution_count": 14,
     "metadata": {},
     "output_type": "execute_result"
    }
   ],
   "source": [
    "# new_perday = pd.concat(['installs','dates'])\n",
    "dates.dtypes"
   ]
  },
  {
   "cell_type": "code",
   "execution_count": 15,
   "id": "eba08d6b-7c38-421c-80d8-c0bebc06e897",
   "metadata": {},
   "outputs": [],
   "source": [
    "dat1 = zip(dates.index,dates)"
   ]
  },
  {
   "cell_type": "code",
   "execution_count": 16,
   "id": "f1082ee9-783a-42f8-9533-55ee2be0c224",
   "metadata": {},
   "outputs": [],
   "source": [
    "installs_copy = pd.DataFrame.from_dict(dict,orient='index')"
   ]
  },
  {
   "cell_type": "code",
   "execution_count": 17,
   "id": "ee5508ce-5065-4414-9dee-776ede9e3272",
   "metadata": {},
   "outputs": [],
   "source": [
    "value = dates\n",
    "installs_copy.insert(0,1,value)"
   ]
  },
  {
   "cell_type": "code",
   "execution_count": 18,
   "id": "422db3ba-bd00-4841-8491-5ee2cdc7d694",
   "metadata": {},
   "outputs": [
    {
     "data": {
      "text/html": [
       "<div>\n",
       "<style scoped>\n",
       "    .dataframe tbody tr th:only-of-type {\n",
       "        vertical-align: middle;\n",
       "    }\n",
       "\n",
       "    .dataframe tbody tr th {\n",
       "        vertical-align: top;\n",
       "    }\n",
       "\n",
       "    .dataframe thead th {\n",
       "        text-align: right;\n",
       "    }\n",
       "</style>\n",
       "<table border=\"1\" class=\"dataframe\">\n",
       "  <thead>\n",
       "    <tr style=\"text-align: right;\">\n",
       "      <th></th>\n",
       "      <th>1</th>\n",
       "      <th>0</th>\n",
       "    </tr>\n",
       "  </thead>\n",
       "  <tbody>\n",
       "    <tr>\n",
       "      <th>Action</th>\n",
       "      <td>4141</td>\n",
       "      <td>666666600</td>\n",
       "    </tr>\n",
       "    <tr>\n",
       "      <th>Adventure</th>\n",
       "      <td>3719</td>\n",
       "      <td>116666610</td>\n",
       "    </tr>\n",
       "    <tr>\n",
       "      <th>Arcade</th>\n",
       "      <td>4244</td>\n",
       "      <td>1166666665</td>\n",
       "    </tr>\n",
       "    <tr>\n",
       "      <th>Art &amp; Design</th>\n",
       "      <td>4122</td>\n",
       "      <td>166666660</td>\n",
       "    </tr>\n",
       "    <tr>\n",
       "      <th>Auto &amp; Vehicles</th>\n",
       "      <td>4048</td>\n",
       "      <td>16666660</td>\n",
       "    </tr>\n",
       "  </tbody>\n",
       "</table>\n",
       "</div>"
      ],
      "text/plain": [
       "                    1           0\n",
       "Action           4141   666666600\n",
       "Adventure        3719   116666610\n",
       "Arcade           4244  1166666665\n",
       "Art & Design     4122   166666660\n",
       "Auto & Vehicles  4048    16666660"
      ]
     },
     "execution_count": 18,
     "metadata": {},
     "output_type": "execute_result"
    }
   ],
   "source": [
    "installs_copy.head(5)"
   ]
  },
  {
   "cell_type": "code",
   "execution_count": 19,
   "id": "98db4036-95c0-4f28-a7ff-ef2699b621f8",
   "metadata": {},
   "outputs": [],
   "source": [
    "installs_copy['per_day'] = installs_copy[0]/installs_copy[1]\n",
    "\n",
    "installs_copy['days_since_release'] = installs_copy[1]\n",
    "installs_copy['sum'] = installs_copy[0]\n",
    "installs_copy.drop(columns = [1,0],inplace = True)"
   ]
  },
  {
   "cell_type": "code",
   "execution_count": 20,
   "id": "f5ea8079-632b-4994-bc84-e6e8becd35c0",
   "metadata": {},
   "outputs": [
    {
     "data": {
      "text/html": [
       "<div>\n",
       "<style scoped>\n",
       "    .dataframe tbody tr th:only-of-type {\n",
       "        vertical-align: middle;\n",
       "    }\n",
       "\n",
       "    .dataframe tbody tr th {\n",
       "        vertical-align: top;\n",
       "    }\n",
       "\n",
       "    .dataframe thead th {\n",
       "        text-align: right;\n",
       "    }\n",
       "</style>\n",
       "<table border=\"1\" class=\"dataframe\">\n",
       "  <thead>\n",
       "    <tr style=\"text-align: right;\">\n",
       "      <th></th>\n",
       "      <th>per_day</th>\n",
       "      <th>days_since_release</th>\n",
       "      <th>sum</th>\n",
       "    </tr>\n",
       "  </thead>\n",
       "  <tbody>\n",
       "    <tr>\n",
       "      <th>Video Players &amp; Editors</th>\n",
       "      <td>400064.008641</td>\n",
       "      <td>4166</td>\n",
       "      <td>1666666660</td>\n",
       "    </tr>\n",
       "  </tbody>\n",
       "</table>\n",
       "</div>"
      ],
      "text/plain": [
       "                               per_day  days_since_release         sum\n",
       "Video Players & Editors  400064.008641                4166  1666666660"
      ]
     },
     "execution_count": 20,
     "metadata": {},
     "output_type": "execute_result"
    }
   ],
   "source": [
    "installs_copy[installs_copy['per_day']==installs_copy['per_day'].max()]"
   ]
  },
  {
   "cell_type": "code",
   "execution_count": 21,
   "id": "fdb3b0b9-38dd-412f-88e0-fb0cc3bd9e98",
   "metadata": {},
   "outputs": [
    {
     "data": {
      "text/html": [
       "<div>\n",
       "<style scoped>\n",
       "    .dataframe tbody tr th:only-of-type {\n",
       "        vertical-align: middle;\n",
       "    }\n",
       "\n",
       "    .dataframe tbody tr th {\n",
       "        vertical-align: top;\n",
       "    }\n",
       "\n",
       "    .dataframe thead th {\n",
       "        text-align: right;\n",
       "    }\n",
       "</style>\n",
       "<table border=\"1\" class=\"dataframe\">\n",
       "  <thead>\n",
       "    <tr style=\"text-align: right;\">\n",
       "      <th></th>\n",
       "      <th>per_day</th>\n",
       "      <th>days_since_release</th>\n",
       "      <th>sum</th>\n",
       "    </tr>\n",
       "  </thead>\n",
       "  <tbody>\n",
       "    <tr>\n",
       "      <th>Events</th>\n",
       "      <td>464.250696</td>\n",
       "      <td>3590</td>\n",
       "      <td>1666660</td>\n",
       "    </tr>\n",
       "  </tbody>\n",
       "</table>\n",
       "</div>"
      ],
      "text/plain": [
       "           per_day  days_since_release      sum\n",
       "Events  464.250696                3590  1666660"
      ]
     },
     "execution_count": 21,
     "metadata": {},
     "output_type": "execute_result"
    }
   ],
   "source": [
    "installs_copy[installs_copy['per_day']==installs_copy['per_day'].min()]"
   ]
  },
  {
   "cell_type": "code",
   "execution_count": 22,
   "id": "2f6c8ed5-660f-4415-aef0-e948d46ddb47",
   "metadata": {},
   "outputs": [
    {
     "data": {
      "image/png": "[encoded data removed]",
      "text/plain": [
       "<Figure size 864x864 with 1 Axes>"
      ]
     },
     "metadata": {},
     "output_type": "display_data"
    }
   ],
   "source": [
    "sns_plot = sns.barplot(x = 'per_day', y = installs_copy.index, data = installs_copy)\n",
    "#sns_plot.figure.savefig(\"per_day.png\")"
   ]
  },
  {
   "cell_type": "markdown",
   "id": "7c948e09-b20a-4134-a55f-e0bac53e61d3",
   "metadata": {},
   "source": [
    "In what app categories are there market leaders (one app that clearly is getting\n",
    "downloaded more than the others)?"
   ]
  },
  {
   "cell_type": "code",
   "execution_count": null,
   "id": "85cb7955-8b63-4888-9e60-506579ac90cf",
   "metadata": {},
   "outputs": [],
   "source": []
  },
  {
   "cell_type": "markdown",
   "id": "0ca30af5-95c9-49e3-9945-678efa4500b4",
   "metadata": {},
   "source": [
    "# 5. What can the data tell you about monetization approaches?"
   ]
  },
  {
   "cell_type": "code",
   "execution_count": 23,
   "id": "7dd09b38-1092-4333-967e-98d8786a2deb",
   "metadata": {},
   "outputs": [],
   "source": [
    "price_df = df[((df[\"offers_iap\"]==True) & (df[\"ad_supported\"]==True)) | (df[\"price\"]>0)]"
   ]
  },
  {
   "cell_type": "code",
   "execution_count": 24,
   "id": "d1640a96-0143-4f14-858e-266d107ed2bb",
   "metadata": {},
   "outputs": [
    {
     "name": "stderr",
     "output_type": "stream",
     "text": [
      "D:\\anaconda\\envs\\tfenv\\lib\\site-packages\\ipykernel_launcher.py:1: SettingWithCopyWarning: \n",
      "A value is trying to be set on a copy of a slice from a DataFrame.\n",
      "Try using .loc[row_indexer,col_indexer] = value instead\n",
      "\n",
      "See the caveats in the documentation: https://pandas.pydata.org/pandas-docs/stable/user_guide/indexing.html#returning-a-view-versus-a-copy\n",
      "  \"\"\"Entry point for launching an IPython kernel.\n"
     ]
    },
    {
     "data": {
      "text/html": [
       "<div>\n",
       "<style scoped>\n",
       "    .dataframe tbody tr th:only-of-type {\n",
       "        vertical-align: middle;\n",
       "    }\n",
       "\n",
       "    .dataframe tbody tr th {\n",
       "        vertical-align: top;\n",
       "    }\n",
       "\n",
       "    .dataframe thead th {\n",
       "        text-align: right;\n",
       "    }\n",
       "</style>\n",
       "<table border=\"1\" class=\"dataframe\">\n",
       "  <thead>\n",
       "    <tr style=\"text-align: right;\">\n",
       "      <th></th>\n",
       "      <th>app_id</th>\n",
       "      <th>title</th>\n",
       "      <th>reviews</th>\n",
       "      <th>ratings</th>\n",
       "      <th>min_installs</th>\n",
       "      <th>score</th>\n",
       "      <th>offers_iap</th>\n",
       "      <th>ad_supported</th>\n",
       "      <th>released</th>\n",
       "      <th>ratings_per_day</th>\n",
       "      <th>genre</th>\n",
       "      <th>genre_id</th>\n",
       "      <th>price</th>\n",
       "      <th>rating_one_star</th>\n",
       "      <th>rating_two_star</th>\n",
       "      <th>rating_three_star</th>\n",
       "      <th>rating_four_star</th>\n",
       "      <th>rating_five_star</th>\n",
       "      <th>revenue</th>\n",
       "    </tr>\n",
       "  </thead>\n",
       "  <tbody>\n",
       "    <tr>\n",
       "      <th>0</th>\n",
       "      <td>com.prettyteengames.royal.princess.wedding.mak...</td>\n",
       "      <td>Royal Princess Wedding Makeover and Dress Up</td>\n",
       "      <td>375.0</td>\n",
       "      <td>1023.0</td>\n",
       "      <td>100000</td>\n",
       "      <td>4.179863</td>\n",
       "      <td>True</td>\n",
       "      <td>True</td>\n",
       "      <td>2017-12-20</td>\n",
       "      <td>3</td>\n",
       "      <td>Casual</td>\n",
       "      <td>GAME_CASUAL</td>\n",
       "      <td>0.00</td>\n",
       "      <td>115</td>\n",
       "      <td>31</td>\n",
       "      <td>98</td>\n",
       "      <td>90</td>\n",
       "      <td>689</td>\n",
       "      <td>0.0</td>\n",
       "    </tr>\n",
       "    <tr>\n",
       "      <th>9</th>\n",
       "      <td>com.yunbu.balala.magicfairydream.free</td>\n",
       "      <td>Magic Princess Fairy Dream</td>\n",
       "      <td>1108.0</td>\n",
       "      <td>2759.0</td>\n",
       "      <td>100000</td>\n",
       "      <td>4.095687</td>\n",
       "      <td>True</td>\n",
       "      <td>True</td>\n",
       "      <td>2017-12-14</td>\n",
       "      <td>8</td>\n",
       "      <td>Casual</td>\n",
       "      <td>GAME_CASUAL</td>\n",
       "      <td>0.00</td>\n",
       "      <td>316</td>\n",
       "      <td>118</td>\n",
       "      <td>294</td>\n",
       "      <td>289</td>\n",
       "      <td>1742</td>\n",
       "      <td>0.0</td>\n",
       "    </tr>\n",
       "    <tr>\n",
       "      <th>19</th>\n",
       "      <td>com.csven.acnlplanner</td>\n",
       "      <td>Planner for AC: NL</td>\n",
       "      <td>9.0</td>\n",
       "      <td>13.0</td>\n",
       "      <td>100</td>\n",
       "      <td>4.538462</td>\n",
       "      <td>False</td>\n",
       "      <td>False</td>\n",
       "      <td>2017-09-17</td>\n",
       "      <td>0</td>\n",
       "      <td>Tools</td>\n",
       "      <td>TOOLS</td>\n",
       "      <td>1.49</td>\n",
       "      <td>1</td>\n",
       "      <td>0</td>\n",
       "      <td>0</td>\n",
       "      <td>2</td>\n",
       "      <td>10</td>\n",
       "      <td>149.0</td>\n",
       "    </tr>\n",
       "    <tr>\n",
       "      <th>20</th>\n",
       "      <td>de.ebertp.HomeDroid.Donate</td>\n",
       "      <td>TinyMatic Unlocker</td>\n",
       "      <td>58.0</td>\n",
       "      <td>154.0</td>\n",
       "      <td>10000</td>\n",
       "      <td>4.512987</td>\n",
       "      <td>False</td>\n",
       "      <td>False</td>\n",
       "      <td>2011-01-21</td>\n",
       "      <td>0</td>\n",
       "      <td>House &amp; Home</td>\n",
       "      <td>HOUSE_AND_HOME</td>\n",
       "      <td>8.49</td>\n",
       "      <td>7</td>\n",
       "      <td>4</td>\n",
       "      <td>7</td>\n",
       "      <td>21</td>\n",
       "      <td>115</td>\n",
       "      <td>84900.0</td>\n",
       "    </tr>\n",
       "    <tr>\n",
       "      <th>23</th>\n",
       "      <td>com.chimbori.hermitcrab.premium.unlocker</td>\n",
       "      <td>Hermit Premium • Unlocker</td>\n",
       "      <td>35.0</td>\n",
       "      <td>103.0</td>\n",
       "      <td>1000</td>\n",
       "      <td>4.834951</td>\n",
       "      <td>False</td>\n",
       "      <td>False</td>\n",
       "      <td>2017-03-05</td>\n",
       "      <td>0</td>\n",
       "      <td>Productivity</td>\n",
       "      <td>PRODUCTIVITY</td>\n",
       "      <td>5.99</td>\n",
       "      <td>0</td>\n",
       "      <td>1</td>\n",
       "      <td>3</td>\n",
       "      <td>8</td>\n",
       "      <td>91</td>\n",
       "      <td>5990.0</td>\n",
       "    </tr>\n",
       "  </tbody>\n",
       "</table>\n",
       "</div>"
      ],
      "text/plain": [
       "                                               app_id  \\\n",
       "0   com.prettyteengames.royal.princess.wedding.mak...   \n",
       "9               com.yunbu.balala.magicfairydream.free   \n",
       "19                              com.csven.acnlplanner   \n",
       "20                         de.ebertp.HomeDroid.Donate   \n",
       "23           com.chimbori.hermitcrab.premium.unlocker   \n",
       "\n",
       "                                           title  reviews  ratings  \\\n",
       "0   Royal Princess Wedding Makeover and Dress Up    375.0   1023.0   \n",
       "9                     Magic Princess Fairy Dream   1108.0   2759.0   \n",
       "19                            Planner for AC: NL      9.0     13.0   \n",
       "20                            TinyMatic Unlocker     58.0    154.0   \n",
       "23                     Hermit Premium • Unlocker     35.0    103.0   \n",
       "\n",
       "    min_installs     score  offers_iap  ad_supported   released  \\\n",
       "0         100000  4.179863        True          True 2017-12-20   \n",
       "9         100000  4.095687        True          True 2017-12-14   \n",
       "19           100  4.538462       False         False 2017-09-17   \n",
       "20         10000  4.512987       False         False 2011-01-21   \n",
       "23          1000  4.834951       False         False 2017-03-05   \n",
       "\n",
       "    ratings_per_day         genre        genre_id  price  rating_one_star  \\\n",
       "0                 3        Casual     GAME_CASUAL   0.00              115   \n",
       "9                 8        Casual     GAME_CASUAL   0.00              316   \n",
       "19                0         Tools           TOOLS   1.49                1   \n",
       "20                0  House & Home  HOUSE_AND_HOME   8.49                7   \n",
       "23                0  Productivity    PRODUCTIVITY   5.99                0   \n",
       "\n",
       "    rating_two_star  rating_three_star  rating_four_star  rating_five_star  \\\n",
       "0                31                 98                90               689   \n",
       "9               118                294               289              1742   \n",
       "19                0                  0                 2                10   \n",
       "20                4                  7                21               115   \n",
       "23                1                  3                 8                91   \n",
       "\n",
       "    revenue  \n",
       "0       0.0  \n",
       "9       0.0  \n",
       "19    149.0  \n",
       "20  84900.0  \n",
       "23   5990.0  "
      ]
     },
     "execution_count": 24,
     "metadata": {},
     "output_type": "execute_result"
    }
   ],
   "source": [
    "price_df['revenue'] = price_df['price']*price_df['min_installs']\n",
    "\n",
    "price_df.head(5)"
   ]
  },
  {
   "cell_type": "code",
   "execution_count": 25,
   "id": "68eb2fee-3195-4feb-b784-c0581216d3fb",
   "metadata": {},
   "outputs": [
    {
     "data": {
      "text/html": [
       "<div>\n",
       "<style scoped>\n",
       "    .dataframe tbody tr th:only-of-type {\n",
       "        vertical-align: middle;\n",
       "    }\n",
       "\n",
       "    .dataframe tbody tr th {\n",
       "        vertical-align: top;\n",
       "    }\n",
       "\n",
       "    .dataframe thead th {\n",
       "        text-align: right;\n",
       "    }\n",
       "</style>\n",
       "<table border=\"1\" class=\"dataframe\">\n",
       "  <thead>\n",
       "    <tr style=\"text-align: right;\">\n",
       "      <th></th>\n",
       "      <th>app_id</th>\n",
       "      <th>title</th>\n",
       "      <th>reviews</th>\n",
       "      <th>ratings</th>\n",
       "      <th>min_installs</th>\n",
       "      <th>score</th>\n",
       "      <th>offers_iap</th>\n",
       "      <th>ad_supported</th>\n",
       "      <th>released</th>\n",
       "      <th>ratings_per_day</th>\n",
       "      <th>genre</th>\n",
       "      <th>genre_id</th>\n",
       "      <th>price</th>\n",
       "      <th>rating_one_star</th>\n",
       "      <th>rating_two_star</th>\n",
       "      <th>rating_three_star</th>\n",
       "      <th>rating_four_star</th>\n",
       "      <th>rating_five_star</th>\n",
       "      <th>revenue</th>\n",
       "    </tr>\n",
       "  </thead>\n",
       "  <tbody>\n",
       "    <tr>\n",
       "      <th>33372</th>\n",
       "      <td>com.mojang.minecraftpe</td>\n",
       "      <td>Minecraft</td>\n",
       "      <td>1244042.0</td>\n",
       "      <td>2488345.0</td>\n",
       "      <td>10000000</td>\n",
       "      <td>4.501863</td>\n",
       "      <td>True</td>\n",
       "      <td>False</td>\n",
       "      <td>2011-08-15</td>\n",
       "      <td>942</td>\n",
       "      <td>Arcade</td>\n",
       "      <td>GAME_ARCADE</td>\n",
       "      <td>6.99</td>\n",
       "      <td>153659</td>\n",
       "      <td>55536</td>\n",
       "      <td>113640</td>\n",
       "      <td>231012</td>\n",
       "      <td>1934498</td>\n",
       "      <td>69900000.0</td>\n",
       "    </tr>\n",
       "  </tbody>\n",
       "</table>\n",
       "</div>"
      ],
      "text/plain": [
       "                       app_id      title    reviews    ratings  min_installs  \\\n",
       "33372  com.mojang.minecraftpe  Minecraft  1244042.0  2488345.0      10000000   \n",
       "\n",
       "          score  offers_iap  ad_supported   released  ratings_per_day   genre  \\\n",
       "33372  4.501863        True         False 2011-08-15              942  Arcade   \n",
       "\n",
       "          genre_id  price  rating_one_star  rating_two_star  \\\n",
       "33372  GAME_ARCADE   6.99           153659            55536   \n",
       "\n",
       "       rating_three_star  rating_four_star  rating_five_star     revenue  \n",
       "33372             113640            231012           1934498  69900000.0  "
      ]
     },
     "execution_count": 25,
     "metadata": {},
     "output_type": "execute_result"
    }
   ],
   "source": [
    "price_df[price_df['revenue']==price_df['revenue'].max()]"
   ]
  },
  {
   "cell_type": "code",
   "execution_count": 26,
   "id": "ec869aa7-bd3a-4c1f-ac9f-df3a084e7b3a",
   "metadata": {},
   "outputs": [],
   "source": [
    "price_df2 = df[(df[\"offers_iap\"]==True) & (df[\"ad_supported\"]==True)]"
   ]
  },
  {
   "cell_type": "code",
   "execution_count": 27,
   "id": "3a4896a0-c2e0-4b7f-b4bc-298aa40746e4",
   "metadata": {},
   "outputs": [
    {
     "data": {
      "text/html": [
       "<div>\n",
       "<style scoped>\n",
       "    .dataframe tbody tr th:only-of-type {\n",
       "        vertical-align: middle;\n",
       "    }\n",
       "\n",
       "    .dataframe tbody tr th {\n",
       "        vertical-align: top;\n",
       "    }\n",
       "\n",
       "    .dataframe thead th {\n",
       "        text-align: right;\n",
       "    }\n",
       "</style>\n",
       "<table border=\"1\" class=\"dataframe\">\n",
       "  <thead>\n",
       "    <tr style=\"text-align: right;\">\n",
       "      <th></th>\n",
       "      <th>app_id</th>\n",
       "      <th>title</th>\n",
       "      <th>reviews</th>\n",
       "      <th>ratings</th>\n",
       "      <th>min_installs</th>\n",
       "      <th>score</th>\n",
       "      <th>offers_iap</th>\n",
       "      <th>ad_supported</th>\n",
       "      <th>released</th>\n",
       "      <th>ratings_per_day</th>\n",
       "      <th>genre</th>\n",
       "      <th>genre_id</th>\n",
       "      <th>price</th>\n",
       "      <th>rating_one_star</th>\n",
       "      <th>rating_two_star</th>\n",
       "      <th>rating_three_star</th>\n",
       "      <th>rating_four_star</th>\n",
       "      <th>rating_five_star</th>\n",
       "    </tr>\n",
       "  </thead>\n",
       "  <tbody>\n",
       "    <tr>\n",
       "      <th>5298</th>\n",
       "      <td>com.facebook.katana</td>\n",
       "      <td>Facebook</td>\n",
       "      <td>22053770.0</td>\n",
       "      <td>81284862.0</td>\n",
       "      <td>1000000000</td>\n",
       "      <td>4.07372</td>\n",
       "      <td>True</td>\n",
       "      <td>True</td>\n",
       "      <td>NaT</td>\n",
       "      <td>0</td>\n",
       "      <td>Social</td>\n",
       "      <td>SOCIAL</td>\n",
       "      <td>0.0</td>\n",
       "      <td>9658715</td>\n",
       "      <td>3368101</td>\n",
       "      <td>7164984</td>\n",
       "      <td>12223419</td>\n",
       "      <td>48869643</td>\n",
       "    </tr>\n",
       "    <tr>\n",
       "      <th>12091</th>\n",
       "      <td>com.kiloo.subwaysurf</td>\n",
       "      <td>Subway Surfers</td>\n",
       "      <td>8939651.0</td>\n",
       "      <td>28564566.0</td>\n",
       "      <td>1000000000</td>\n",
       "      <td>4.49433</td>\n",
       "      <td>True</td>\n",
       "      <td>True</td>\n",
       "      <td>2012-09-20</td>\n",
       "      <td>12774</td>\n",
       "      <td>Arcade</td>\n",
       "      <td>GAME_ARCADE</td>\n",
       "      <td>0.0</td>\n",
       "      <td>1439764</td>\n",
       "      <td>676712</td>\n",
       "      <td>1572821</td>\n",
       "      <td>3509425</td>\n",
       "      <td>21365844</td>\n",
       "    </tr>\n",
       "  </tbody>\n",
       "</table>\n",
       "</div>"
      ],
      "text/plain": [
       "                     app_id           title     reviews     ratings  \\\n",
       "5298    com.facebook.katana        Facebook  22053770.0  81284862.0   \n",
       "12091  com.kiloo.subwaysurf  Subway Surfers   8939651.0  28564566.0   \n",
       "\n",
       "       min_installs    score  offers_iap  ad_supported   released  \\\n",
       "5298     1000000000  4.07372        True          True        NaT   \n",
       "12091    1000000000  4.49433        True          True 2012-09-20   \n",
       "\n",
       "       ratings_per_day   genre     genre_id  price  rating_one_star  \\\n",
       "5298                 0  Social       SOCIAL    0.0          9658715   \n",
       "12091            12774  Arcade  GAME_ARCADE    0.0          1439764   \n",
       "\n",
       "       rating_two_star  rating_three_star  rating_four_star  rating_five_star  \n",
       "5298           3368101            7164984          12223419          48869643  \n",
       "12091           676712            1572821           3509425          21365844  "
      ]
     },
     "execution_count": 27,
     "metadata": {},
     "output_type": "execute_result"
    }
   ],
   "source": [
    "price_df2[price_df2['min_installs']==price_df2['min_installs'].max()]"
   ]
  },
  {
   "cell_type": "code",
   "execution_count": null,
   "id": "c8682eac-dbba-4bb2-82fe-b09eca6bab40",
   "metadata": {},
   "outputs": [],
   "source": []
  },
  {
   "cell_type": "code",
   "execution_count": null,
   "id": "a42b8dcc-982c-4a32-ba8d-48587e787820",
   "metadata": {},
   "outputs": [],
   "source": []
  },
  {
   "cell_type": "code",
   "execution_count": null,
   "id": "311eaab2-8abd-4e68-a5fe-a5dc24323a51",
   "metadata": {},
   "outputs": [],
   "source": []
  },
  {
   "cell_type": "code",
   "execution_count": null,
   "id": "96d17080-b432-44b4-bb8a-47d01464695c",
   "metadata": {},
   "outputs": [],
   "source": []
  },
  {
   "cell_type": "code",
   "execution_count": null,
   "id": "90b3aab0-39b6-442f-8bf3-9d51f80ba4bf",
   "metadata": {},
   "outputs": [],
   "source": []
  },
  {
   "cell_type": "code",
   "execution_count": null,
   "id": "5853c7bd-e80d-4475-91e3-ff917866d8e4",
   "metadata": {},
   "outputs": [],
   "source": []
  },
  {
   "cell_type": "code",
   "execution_count": null,
   "id": "32854c36-1e8f-4396-8a91-f9455045f403",
   "metadata": {},
   "outputs": [],
   "source": []
  },
  {
   "cell_type": "code",
   "execution_count": null,
   "id": "85b43d83-d46f-4b62-b205-06e7e16126eb",
   "metadata": {},
   "outputs": [],
   "source": []
  },
  {
   "cell_type": "code",
   "execution_count": null,
   "id": "2c94c914-522c-449f-96c5-bbc0b7eac14a",
   "metadata": {},
   "outputs": [],
   "source": []
  },
  {
   "cell_type": "code",
   "execution_count": null,
   "id": "6e06c472-7ede-4b61-bf28-dde16e94a48b",
   "metadata": {},
   "outputs": [],
   "source": []
  },
  {
   "cell_type": "code",
   "execution_count": null,
   "id": "65871c58-95a0-40af-9878-4ae82fb0ee42",
   "metadata": {},
   "outputs": [],
   "source": []
  },
  {
   "cell_type": "code",
   "execution_count": null,
   "id": "51a9b619-009c-413d-b91e-6ced9d880951",
   "metadata": {},
   "outputs": [],
   "source": []
  },
  {
   "cell_type": "code",
   "execution_count": null,
   "id": "e1446ece-0a5d-4248-8b97-cd6c9160a2ae",
   "metadata": {},
   "outputs": [],
   "source": []
  },
  {
   "cell_type": "code",
   "execution_count": null,
   "id": "ea189ed2-c8a9-4263-8013-6e4c21b55c9d",
   "metadata": {},
   "outputs": [],
   "source": []
  },
  {
   "cell_type": "code",
   "execution_count": null,
   "id": "ddfe60bb-da7c-438f-98b1-d16d6e2ce73f",
   "metadata": {},
   "outputs": [],
   "source": []
  },
  {
   "cell_type": "code",
   "execution_count": null,
   "id": "7498b536-87fc-4e9f-8a95-5cc45aa0c310",
   "metadata": {},
   "outputs": [],
   "source": []
  }
 ],
 "metadata": {
  "kernelspec": {
   "display_name": "Python [conda env:tfenv] *",
   "language": "python",
   "name": "conda-env-tfenv-py"
  },
  "language_info": {
   "codemirror_mode": {
    "name": "ipython",
    "version": 3
   },
   "file_extension": ".py",
   "mimetype": "text/x-python",
   "name": "python",
   "nbconvert_exporter": "python",
   "pygments_lexer": "ipython3",
   "version": "3.7.10"
  }
 },
 "nbformat": 4,
 "nbformat_minor": 5
}
